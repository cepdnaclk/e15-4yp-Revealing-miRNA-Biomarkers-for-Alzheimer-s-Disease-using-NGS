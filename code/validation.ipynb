{
 "cells": [
  {
   "cell_type": "code",
   "execution_count": 76,
   "metadata": {},
   "outputs": [],
   "source": [
    "import numpy as np\n",
    "import pandas as pd\n",
    "import matplotlib.pyplot as plt\n",
    "import seaborn as sns"
   ]
  },
  {
   "cell_type": "code",
   "execution_count": 77,
   "metadata": {},
   "outputs": [
    {
     "data": {
      "text/html": [
       "<div>\n",
       "<style scoped>\n",
       "    .dataframe tbody tr th:only-of-type {\n",
       "        vertical-align: middle;\n",
       "    }\n",
       "\n",
       "    .dataframe tbody tr th {\n",
       "        vertical-align: top;\n",
       "    }\n",
       "\n",
       "    .dataframe thead th {\n",
       "        text-align: right;\n",
       "    }\n",
       "</style>\n",
       "<table border=\"1\" class=\"dataframe\">\n",
       "  <thead>\n",
       "    <tr style=\"text-align: right;\">\n",
       "      <th></th>\n",
       "      <th>category</th>\n",
       "      <th>mir</th>\n",
       "      <th>disease</th>\n",
       "      <th>pmid</th>\n",
       "      <th>description</th>\n",
       "    </tr>\n",
       "  </thead>\n",
       "  <tbody>\n",
       "    <tr>\n",
       "      <th>0</th>\n",
       "      <td>circulation_biomarker_diagnosis_down</td>\n",
       "      <td>hsa-mir-15a</td>\n",
       "      <td>Leukemia, Lymphocytic, Chronic, B-Cell</td>\n",
       "      <td>15737576</td>\n",
       "      <td>Some human miRNAs are linked to leukemias: the...</td>\n",
       "    </tr>\n",
       "    <tr>\n",
       "      <th>1</th>\n",
       "      <td>circulation_biomarker_diagnosis_down</td>\n",
       "      <td>hsa-mir-16</td>\n",
       "      <td>Leukemia, Lymphocytic, Chronic, B-Cell</td>\n",
       "      <td>15737576</td>\n",
       "      <td>Some human miRNAs are linked to leukemias: the...</td>\n",
       "    </tr>\n",
       "    <tr>\n",
       "      <th>2</th>\n",
       "      <td>circulation_biomarker_diagnosis_down</td>\n",
       "      <td>hsa-mir-143</td>\n",
       "      <td>Colon Neoplasms</td>\n",
       "      <td>16195701</td>\n",
       "      <td>downregulation</td>\n",
       "    </tr>\n",
       "    <tr>\n",
       "      <th>3</th>\n",
       "      <td>circulation_biomarker_diagnosis_down</td>\n",
       "      <td>hsa-mir-145</td>\n",
       "      <td>Colon Neoplasms</td>\n",
       "      <td>16195701</td>\n",
       "      <td>downregulation</td>\n",
       "    </tr>\n",
       "    <tr>\n",
       "      <th>4</th>\n",
       "      <td>circulation_biomarker_diagnosis_down</td>\n",
       "      <td>hsa-mir-223</td>\n",
       "      <td>Leukemia, Lymphocytic, Chronic, B-Cell</td>\n",
       "      <td>16251535</td>\n",
       "      <td>downregulated</td>\n",
       "    </tr>\n",
       "    <tr>\n",
       "      <th>...</th>\n",
       "      <td>...</td>\n",
       "      <td>...</td>\n",
       "      <td>...</td>\n",
       "      <td>...</td>\n",
       "      <td>...</td>\n",
       "    </tr>\n",
       "    <tr>\n",
       "      <th>35542</th>\n",
       "      <td>tissue_expression_up</td>\n",
       "      <td>hsa-mir-3648</td>\n",
       "      <td>Neoplasms [unspecific]</td>\n",
       "      <td>30384176</td>\n",
       "      <td>Identification of key differentially expressed...</td>\n",
       "    </tr>\n",
       "    <tr>\n",
       "      <th>35543</th>\n",
       "      <td>tissue_expression_up</td>\n",
       "      <td>hsa-mir-3687</td>\n",
       "      <td>Neoplasms [unspecific]</td>\n",
       "      <td>30384176</td>\n",
       "      <td>Identification of key differentially expressed...</td>\n",
       "    </tr>\n",
       "    <tr>\n",
       "      <th>35544</th>\n",
       "      <td>tissue_expression_up</td>\n",
       "      <td>hsa-mir-4746</td>\n",
       "      <td>Neoplasms [unspecific]</td>\n",
       "      <td>30384176</td>\n",
       "      <td>Identification of key differentially expressed...</td>\n",
       "    </tr>\n",
       "    <tr>\n",
       "      <th>35545</th>\n",
       "      <td>tissue_expression_up</td>\n",
       "      <td>hsa-mir-760</td>\n",
       "      <td>Neoplasms [unspecific]</td>\n",
       "      <td>30384176</td>\n",
       "      <td>Identification of key differentially expressed...</td>\n",
       "    </tr>\n",
       "    <tr>\n",
       "      <th>35546</th>\n",
       "      <td>tissue_expression_up</td>\n",
       "      <td>hsa-mir-96</td>\n",
       "      <td>Neoplasms [unspecific]</td>\n",
       "      <td>30384176</td>\n",
       "      <td>Identification of key differentially expressed...</td>\n",
       "    </tr>\n",
       "  </tbody>\n",
       "</table>\n",
       "<p>35547 rows × 5 columns</p>\n",
       "</div>"
      ],
      "text/plain": [
       "                                   category           mir  \\\n",
       "0      circulation_biomarker_diagnosis_down   hsa-mir-15a   \n",
       "1      circulation_biomarker_diagnosis_down    hsa-mir-16   \n",
       "2      circulation_biomarker_diagnosis_down   hsa-mir-143   \n",
       "3      circulation_biomarker_diagnosis_down   hsa-mir-145   \n",
       "4      circulation_biomarker_diagnosis_down   hsa-mir-223   \n",
       "...                                     ...           ...   \n",
       "35542                  tissue_expression_up  hsa-mir-3648   \n",
       "35543                  tissue_expression_up  hsa-mir-3687   \n",
       "35544                  tissue_expression_up  hsa-mir-4746   \n",
       "35545                  tissue_expression_up   hsa-mir-760   \n",
       "35546                  tissue_expression_up    hsa-mir-96   \n",
       "\n",
       "                                      disease      pmid  \\\n",
       "0      Leukemia, Lymphocytic, Chronic, B-Cell  15737576   \n",
       "1      Leukemia, Lymphocytic, Chronic, B-Cell  15737576   \n",
       "2                             Colon Neoplasms  16195701   \n",
       "3                             Colon Neoplasms  16195701   \n",
       "4      Leukemia, Lymphocytic, Chronic, B-Cell  16251535   \n",
       "...                                       ...       ...   \n",
       "35542                  Neoplasms [unspecific]  30384176   \n",
       "35543                  Neoplasms [unspecific]  30384176   \n",
       "35544                  Neoplasms [unspecific]  30384176   \n",
       "35545                  Neoplasms [unspecific]  30384176   \n",
       "35546                  Neoplasms [unspecific]  30384176   \n",
       "\n",
       "                                             description  \n",
       "0      Some human miRNAs are linked to leukemias: the...  \n",
       "1      Some human miRNAs are linked to leukemias: the...  \n",
       "2                                         downregulation  \n",
       "3                                         downregulation  \n",
       "4                                          downregulated  \n",
       "...                                                  ...  \n",
       "35542  Identification of key differentially expressed...  \n",
       "35543  Identification of key differentially expressed...  \n",
       "35544  Identification of key differentially expressed...  \n",
       "35545  Identification of key differentially expressed...  \n",
       "35546  Identification of key differentially expressed...  \n",
       "\n",
       "[35547 rows x 5 columns]"
      ]
     },
     "execution_count": 77,
     "metadata": {},
     "output_type": "execute_result"
    }
   ],
   "source": [
    "#Read the validation dataset from Human miRNA Disease Database V3.2\n",
    "df_bench = pd.read_excel(r'alldata.Xlsx')\n",
    "df_bench"
   ]
  },
  {
   "cell_type": "code",
   "execution_count": 78,
   "metadata": {},
   "outputs": [
    {
     "data": {
      "text/html": [
       "<div>\n",
       "<style scoped>\n",
       "    .dataframe tbody tr th:only-of-type {\n",
       "        vertical-align: middle;\n",
       "    }\n",
       "\n",
       "    .dataframe tbody tr th {\n",
       "        vertical-align: top;\n",
       "    }\n",
       "\n",
       "    .dataframe thead th {\n",
       "        text-align: right;\n",
       "    }\n",
       "</style>\n",
       "<table border=\"1\" class=\"dataframe\">\n",
       "  <thead>\n",
       "    <tr style=\"text-align: right;\">\n",
       "      <th></th>\n",
       "      <th>category</th>\n",
       "      <th>mir</th>\n",
       "      <th>disease</th>\n",
       "      <th>pmid</th>\n",
       "      <th>description</th>\n",
       "    </tr>\n",
       "  </thead>\n",
       "  <tbody>\n",
       "    <tr>\n",
       "      <th>285</th>\n",
       "      <td>circulation_biomarker_diagnosis_down</td>\n",
       "      <td>hsa-mir-590</td>\n",
       "      <td>Alzheimer Disease</td>\n",
       "      <td>21548758</td>\n",
       "      <td>Decreased relative expression levels of hsa-mi...</td>\n",
       "    </tr>\n",
       "    <tr>\n",
       "      <th>417</th>\n",
       "      <td>circulation_biomarker_diagnosis_down</td>\n",
       "      <td>hsa-let-7f</td>\n",
       "      <td>Alzheimer Disease</td>\n",
       "      <td>23895045</td>\n",
       "      <td>A blood based 12-miRNA signature of Alzheimer ...</td>\n",
       "    </tr>\n",
       "    <tr>\n",
       "      <th>418</th>\n",
       "      <td>circulation_biomarker_diagnosis_down</td>\n",
       "      <td>hsa-mir-103a</td>\n",
       "      <td>Alzheimer Disease</td>\n",
       "      <td>23895045</td>\n",
       "      <td>A blood based 12-miRNA signature of Alzheimer ...</td>\n",
       "    </tr>\n",
       "    <tr>\n",
       "      <th>419</th>\n",
       "      <td>circulation_biomarker_diagnosis_down</td>\n",
       "      <td>hsa-mir-107</td>\n",
       "      <td>Alzheimer Disease</td>\n",
       "      <td>23895045</td>\n",
       "      <td>A blood based 12-miRNA signature of Alzheimer ...</td>\n",
       "    </tr>\n",
       "    <tr>\n",
       "      <th>420</th>\n",
       "      <td>circulation_biomarker_diagnosis_down</td>\n",
       "      <td>hsa-mir-1285</td>\n",
       "      <td>Alzheimer Disease</td>\n",
       "      <td>23895045</td>\n",
       "      <td>A blood based 12-miRNA signature of Alzheimer ...</td>\n",
       "    </tr>\n",
       "    <tr>\n",
       "      <th>...</th>\n",
       "      <td>...</td>\n",
       "      <td>...</td>\n",
       "      <td>...</td>\n",
       "      <td>...</td>\n",
       "      <td>...</td>\n",
       "    </tr>\n",
       "    <tr>\n",
       "      <th>33639</th>\n",
       "      <td>tissue_expression_up</td>\n",
       "      <td>hsa-mir-26a-2</td>\n",
       "      <td>Alzheimer Disease</td>\n",
       "      <td>21834602</td>\n",
       "      <td>upregulated in bone marrow plasma cells from p...</td>\n",
       "    </tr>\n",
       "    <tr>\n",
       "      <th>33755</th>\n",
       "      <td>tissue_expression_up</td>\n",
       "      <td>hsa-mir-34c</td>\n",
       "      <td>Alzheimer Disease</td>\n",
       "      <td>21946562</td>\n",
       "      <td>The authors identify miR-34c as a negative con...</td>\n",
       "    </tr>\n",
       "    <tr>\n",
       "      <th>34568</th>\n",
       "      <td>tissue_expression_up</td>\n",
       "      <td>hsa-mir-26b</td>\n",
       "      <td>Alzheimer Disease</td>\n",
       "      <td>24027266</td>\n",
       "      <td>MiR-26b, upregulated in Alzheimer's disease, a...</td>\n",
       "    </tr>\n",
       "    <tr>\n",
       "      <th>34627</th>\n",
       "      <td>tissue_expression_up</td>\n",
       "      <td>hsa-mir-206</td>\n",
       "      <td>Alzheimer Disease</td>\n",
       "      <td>24604632</td>\n",
       "      <td>We now report that miR-206 is upregulated in t...</td>\n",
       "    </tr>\n",
       "    <tr>\n",
       "      <th>34699</th>\n",
       "      <td>tissue_expression_up</td>\n",
       "      <td>hsa-mir-34c</td>\n",
       "      <td>Alzheimer Disease</td>\n",
       "      <td>25052764</td>\n",
       "      <td>We have used an in vivo neonatal mouse model t...</td>\n",
       "    </tr>\n",
       "  </tbody>\n",
       "</table>\n",
       "<p>215 rows × 5 columns</p>\n",
       "</div>"
      ],
      "text/plain": [
       "                                   category            mir            disease  \\\n",
       "285    circulation_biomarker_diagnosis_down    hsa-mir-590  Alzheimer Disease   \n",
       "417    circulation_biomarker_diagnosis_down     hsa-let-7f  Alzheimer Disease   \n",
       "418    circulation_biomarker_diagnosis_down   hsa-mir-103a  Alzheimer Disease   \n",
       "419    circulation_biomarker_diagnosis_down    hsa-mir-107  Alzheimer Disease   \n",
       "420    circulation_biomarker_diagnosis_down   hsa-mir-1285  Alzheimer Disease   \n",
       "...                                     ...            ...                ...   \n",
       "33639                  tissue_expression_up  hsa-mir-26a-2  Alzheimer Disease   \n",
       "33755                  tissue_expression_up    hsa-mir-34c  Alzheimer Disease   \n",
       "34568                  tissue_expression_up    hsa-mir-26b  Alzheimer Disease   \n",
       "34627                  tissue_expression_up    hsa-mir-206  Alzheimer Disease   \n",
       "34699                  tissue_expression_up    hsa-mir-34c  Alzheimer Disease   \n",
       "\n",
       "           pmid                                        description  \n",
       "285    21548758  Decreased relative expression levels of hsa-mi...  \n",
       "417    23895045  A blood based 12-miRNA signature of Alzheimer ...  \n",
       "418    23895045  A blood based 12-miRNA signature of Alzheimer ...  \n",
       "419    23895045  A blood based 12-miRNA signature of Alzheimer ...  \n",
       "420    23895045  A blood based 12-miRNA signature of Alzheimer ...  \n",
       "...         ...                                                ...  \n",
       "33639  21834602  upregulated in bone marrow plasma cells from p...  \n",
       "33755  21946562  The authors identify miR-34c as a negative con...  \n",
       "34568  24027266  MiR-26b, upregulated in Alzheimer's disease, a...  \n",
       "34627  24604632  We now report that miR-206 is upregulated in t...  \n",
       "34699  25052764  We have used an in vivo neonatal mouse model t...  \n",
       "\n",
       "[215 rows x 5 columns]"
      ]
     },
     "execution_count": 78,
     "metadata": {},
     "output_type": "execute_result"
    }
   ],
   "source": [
    "#Select the data with Alzheimer's disease\n",
    "df_bench_alzheimer = df_bench[df_bench['disease'].str.contains(\"Alzheimer\")]\n",
    "df_bench_alzheimer"
   ]
  },
  {
   "cell_type": "code",
   "execution_count": 79,
   "metadata": {},
   "outputs": [
    {
     "data": {
      "text/html": [
       "<div>\n",
       "<style scoped>\n",
       "    .dataframe tbody tr th:only-of-type {\n",
       "        vertical-align: middle;\n",
       "    }\n",
       "\n",
       "    .dataframe tbody tr th {\n",
       "        vertical-align: top;\n",
       "    }\n",
       "\n",
       "    .dataframe thead th {\n",
       "        text-align: right;\n",
       "    }\n",
       "</style>\n",
       "<table border=\"1\" class=\"dataframe\">\n",
       "  <thead>\n",
       "    <tr style=\"text-align: right;\">\n",
       "      <th></th>\n",
       "    </tr>\n",
       "    <tr>\n",
       "      <th>Correlation</th>\n",
       "    </tr>\n",
       "  </thead>\n",
       "  <tbody>\n",
       "    <tr>\n",
       "      <th>hsa-mir-4781:hsa-miR-4781-3p</th>\n",
       "    </tr>\n",
       "    <tr>\n",
       "      <th>brain-mir-112:brain-mir-112</th>\n",
       "    </tr>\n",
       "    <tr>\n",
       "      <th>hsa-let-7a-3:hsa-let-7a-5p</th>\n",
       "    </tr>\n",
       "    <tr>\n",
       "      <th>hsa-mir-148b:hsa-miR-148b-5p</th>\n",
       "    </tr>\n",
       "    <tr>\n",
       "      <th>hsa-mir-29b-2:hsa-miR-29b-3p</th>\n",
       "    </tr>\n",
       "    <tr>\n",
       "      <th>brain-mir-431:brain-mir-431</th>\n",
       "    </tr>\n",
       "    <tr>\n",
       "      <th>hsa-mir-378a:hsa-miR-378a-5p</th>\n",
       "    </tr>\n",
       "    <tr>\n",
       "      <th>hsa-mir-548h-5:hsa-miR-548h-5p</th>\n",
       "    </tr>\n",
       "    <tr>\n",
       "      <th>hsa-mir-3909:hsa-miR-3909</th>\n",
       "    </tr>\n",
       "    <tr>\n",
       "      <th>hsa-mir-625:hsa-miR-625-5p</th>\n",
       "    </tr>\n",
       "    <tr>\n",
       "      <th>hsa-mir-24-1:hsa-miR-24-3p</th>\n",
       "    </tr>\n",
       "  </tbody>\n",
       "</table>\n",
       "</div>"
      ],
      "text/plain": [
       "Empty DataFrame\n",
       "Columns: []\n",
       "Index: [hsa-mir-4781:hsa-miR-4781-3p, brain-mir-112:brain-mir-112, hsa-let-7a-3:hsa-let-7a-5p, hsa-mir-148b:hsa-miR-148b-5p, hsa-mir-29b-2:hsa-miR-29b-3p, brain-mir-431:brain-mir-431, hsa-mir-378a:hsa-miR-378a-5p, hsa-mir-548h-5:hsa-miR-548h-5p, hsa-mir-3909:hsa-miR-3909, hsa-mir-625:hsa-miR-625-5p, hsa-mir-24-1:hsa-miR-24-3p]"
      ]
     },
     "execution_count": 79,
     "metadata": {},
     "output_type": "execute_result"
    }
   ],
   "source": [
    "#Read the datafile of selected miRNAs by correlation values\n",
    "df_corr = pd.read_excel(r'correlations_new.Xlsx',index_col=0)\n",
    "df_corr"
   ]
  },
  {
   "cell_type": "code",
   "execution_count": 80,
   "metadata": {},
   "outputs": [],
   "source": [
    "corr_array=df_corr.index.values"
   ]
  },
  {
   "cell_type": "code",
   "execution_count": 81,
   "metadata": {},
   "outputs": [
    {
     "data": {
      "text/plain": [
       "array(['hsa-mir-4781:hsa-miR-4781-3p', 'brain-mir-112:brain-mir-112',\n",
       "       'hsa-let-7a-3:hsa-let-7a-5p', 'hsa-mir-148b:hsa-miR-148b-5p',\n",
       "       'hsa-mir-29b-2:hsa-miR-29b-3p', 'brain-mir-431:brain-mir-431',\n",
       "       'hsa-mir-378a:hsa-miR-378a-5p', 'hsa-mir-548h-5:hsa-miR-548h-5p',\n",
       "       'hsa-mir-3909:hsa-miR-3909', 'hsa-mir-625:hsa-miR-625-5p',\n",
       "       'hsa-mir-24-1:hsa-miR-24-3p'], dtype=object)"
      ]
     },
     "execution_count": 81,
     "metadata": {},
     "output_type": "execute_result"
    }
   ],
   "source": [
    "corr_array"
   ]
  },
  {
   "cell_type": "code",
   "execution_count": 82,
   "metadata": {},
   "outputs": [],
   "source": [
    "corr_array_split=[]"
   ]
  },
  {
   "cell_type": "code",
   "execution_count": 83,
   "metadata": {},
   "outputs": [],
   "source": [
    "for i in range(0,len(corr_array)):\n",
    "    corr_array_split.append((corr_array[i].split(':'))[0])"
   ]
  },
  {
   "cell_type": "code",
   "execution_count": 84,
   "metadata": {},
   "outputs": [
    {
     "data": {
      "text/plain": [
       "['hsa-mir-4781',\n",
       " 'brain-mir-112',\n",
       " 'hsa-let-7a-3',\n",
       " 'hsa-mir-148b',\n",
       " 'hsa-mir-29b-2',\n",
       " 'brain-mir-431',\n",
       " 'hsa-mir-378a',\n",
       " 'hsa-mir-548h-5',\n",
       " 'hsa-mir-3909',\n",
       " 'hsa-mir-625',\n",
       " 'hsa-mir-24-1']"
      ]
     },
     "execution_count": 84,
     "metadata": {},
     "output_type": "execute_result"
    }
   ],
   "source": [
    "corr_array_split"
   ]
  },
  {
   "cell_type": "code",
   "execution_count": 85,
   "metadata": {},
   "outputs": [],
   "source": [
    "corr_array_split_name=[]"
   ]
  },
  {
   "cell_type": "code",
   "execution_count": 86,
   "metadata": {},
   "outputs": [],
   "source": [
    "for i in range(0,len(corr_array)):\n",
    "    corr_array_split_name.append((corr_array[i].split(':'))[1])"
   ]
  },
  {
   "cell_type": "code",
   "execution_count": 87,
   "metadata": {},
   "outputs": [],
   "source": [
    "corr_validate=[]\n",
    "corr_validate_names=[]"
   ]
  },
  {
   "cell_type": "code",
   "execution_count": 88,
   "metadata": {},
   "outputs": [],
   "source": [
    "#Check the availability of miRNAs of Correlated dataset, within the validation dataset and select the validated miRNAs\n",
    "for i in range(0,len(corr_array_split)):\n",
    "    if df_bench_alzheimer['mir'].str.contains(corr_array_split[i]).any():\n",
    "        corr_validate.append(corr_array_split[i])\n",
    "        "
   ]
  },
  {
   "cell_type": "code",
   "execution_count": 89,
   "metadata": {},
   "outputs": [
    {
     "data": {
      "text/plain": [
       "['hsa-mir-148b', 'hsa-mir-29b-2']"
      ]
     },
     "execution_count": 89,
     "metadata": {},
     "output_type": "execute_result"
    }
   ],
   "source": [
    "corr_validate"
   ]
  },
  {
   "cell_type": "code",
   "execution_count": 90,
   "metadata": {},
   "outputs": [
    {
     "data": {
      "text/html": [
       "<div>\n",
       "<style scoped>\n",
       "    .dataframe tbody tr th:only-of-type {\n",
       "        vertical-align: middle;\n",
       "    }\n",
       "\n",
       "    .dataframe tbody tr th {\n",
       "        vertical-align: top;\n",
       "    }\n",
       "\n",
       "    .dataframe thead th {\n",
       "        text-align: right;\n",
       "    }\n",
       "</style>\n",
       "<table border=\"1\" class=\"dataframe\">\n",
       "  <thead>\n",
       "    <tr style=\"text-align: right;\">\n",
       "      <th></th>\n",
       "    </tr>\n",
       "    <tr>\n",
       "      <th>overlap</th>\n",
       "    </tr>\n",
       "  </thead>\n",
       "  <tbody>\n",
       "    <tr>\n",
       "      <th>hsa-mir-186:hsa-miR-186-5p</th>\n",
       "    </tr>\n",
       "    <tr>\n",
       "      <th>hsa-mir-144:hsa-miR-144-3p</th>\n",
       "    </tr>\n",
       "    <tr>\n",
       "      <th>hsa-mir-151a:hsa-miR-151a-3p</th>\n",
       "    </tr>\n",
       "    <tr>\n",
       "      <th>hsa-mir-99b:hsa-miR-99b-5p</th>\n",
       "    </tr>\n",
       "    <tr>\n",
       "      <th>hsa-mir-98:hsa-miR-98</th>\n",
       "    </tr>\n",
       "    <tr>\n",
       "      <th>hsa-mir-148a:hsa-miR-148a-3p</th>\n",
       "    </tr>\n",
       "    <tr>\n",
       "      <th>hsa-let-7g:hsa-let-7g-5p</th>\n",
       "    </tr>\n",
       "    <tr>\n",
       "      <th>hsa-let-7f-2:hsa-let-7f-5p</th>\n",
       "    </tr>\n",
       "    <tr>\n",
       "      <th>hsa-let-7a-1:hsa-let-7a-5p</th>\n",
       "    </tr>\n",
       "    <tr>\n",
       "      <th>hsa-mir-30d:hsa-miR-30d-5p</th>\n",
       "    </tr>\n",
       "    <tr>\n",
       "      <th>hsa-mir-15a:hsa-miR-15a-5p</th>\n",
       "    </tr>\n",
       "    <tr>\n",
       "      <th>hsa-mir-589:hsa-miR-589-5p</th>\n",
       "    </tr>\n",
       "    <tr>\n",
       "      <th>hsa-mir-144:hsa-miR-144-5p</th>\n",
       "    </tr>\n",
       "    <tr>\n",
       "      <th>hsa-let-7f-1:hsa-let-7f-5p</th>\n",
       "    </tr>\n",
       "  </tbody>\n",
       "</table>\n",
       "</div>"
      ],
      "text/plain": [
       "Empty DataFrame\n",
       "Columns: []\n",
       "Index: [hsa-mir-186:hsa-miR-186-5p, hsa-mir-144:hsa-miR-144-3p, hsa-mir-151a:hsa-miR-151a-3p, hsa-mir-99b:hsa-miR-99b-5p, hsa-mir-98:hsa-miR-98, hsa-mir-148a:hsa-miR-148a-3p, hsa-let-7g:hsa-let-7g-5p, hsa-let-7f-2:hsa-let-7f-5p, hsa-let-7a-1:hsa-let-7a-5p, hsa-mir-30d:hsa-miR-30d-5p, hsa-mir-15a:hsa-miR-15a-5p, hsa-mir-589:hsa-miR-589-5p, hsa-mir-144:hsa-miR-144-5p, hsa-let-7f-1:hsa-let-7f-5p]"
      ]
     },
     "execution_count": 90,
     "metadata": {},
     "output_type": "execute_result"
    }
   ],
   "source": [
    "#Read the datafile of selected miRNAs by overlap\n",
    "df_overlap = pd.read_excel(r'overlap_new.Xlsx',index_col=0)\n",
    "df_overlap"
   ]
  },
  {
   "cell_type": "code",
   "execution_count": 91,
   "metadata": {},
   "outputs": [],
   "source": [
    "overlap_array=df_overlap.index.values"
   ]
  },
  {
   "cell_type": "code",
   "execution_count": 92,
   "metadata": {},
   "outputs": [
    {
     "data": {
      "text/plain": [
       "array(['hsa-mir-186:hsa-miR-186-5p', 'hsa-mir-144:hsa-miR-144-3p',\n",
       "       'hsa-mir-151a:hsa-miR-151a-3p', 'hsa-mir-99b:hsa-miR-99b-5p',\n",
       "       'hsa-mir-98:hsa-miR-98', 'hsa-mir-148a:hsa-miR-148a-3p',\n",
       "       'hsa-let-7g:hsa-let-7g-5p', 'hsa-let-7f-2:hsa-let-7f-5p',\n",
       "       'hsa-let-7a-1:hsa-let-7a-5p', 'hsa-mir-30d:hsa-miR-30d-5p',\n",
       "       'hsa-mir-15a:hsa-miR-15a-5p', 'hsa-mir-589:hsa-miR-589-5p',\n",
       "       'hsa-mir-144:hsa-miR-144-5p', 'hsa-let-7f-1:hsa-let-7f-5p'],\n",
       "      dtype=object)"
      ]
     },
     "execution_count": 92,
     "metadata": {},
     "output_type": "execute_result"
    }
   ],
   "source": [
    "overlap_array"
   ]
  },
  {
   "cell_type": "code",
   "execution_count": 93,
   "metadata": {},
   "outputs": [],
   "source": [
    "overlap_array_split=[]"
   ]
  },
  {
   "cell_type": "code",
   "execution_count": 94,
   "metadata": {},
   "outputs": [],
   "source": [
    "for i in range(0,len(overlap_array)):\n",
    "    overlap_array_split.append((overlap_array[i].split(':'))[0])"
   ]
  },
  {
   "cell_type": "code",
   "execution_count": 95,
   "metadata": {},
   "outputs": [
    {
     "data": {
      "text/plain": [
       "['hsa-mir-186',\n",
       " 'hsa-mir-144',\n",
       " 'hsa-mir-151a',\n",
       " 'hsa-mir-99b',\n",
       " 'hsa-mir-98',\n",
       " 'hsa-mir-148a',\n",
       " 'hsa-let-7g',\n",
       " 'hsa-let-7f-2',\n",
       " 'hsa-let-7a-1',\n",
       " 'hsa-mir-30d',\n",
       " 'hsa-mir-15a',\n",
       " 'hsa-mir-589',\n",
       " 'hsa-mir-144',\n",
       " 'hsa-let-7f-1']"
      ]
     },
     "execution_count": 95,
     "metadata": {},
     "output_type": "execute_result"
    }
   ],
   "source": [
    "overlap_array_split"
   ]
  },
  {
   "cell_type": "code",
   "execution_count": 96,
   "metadata": {},
   "outputs": [],
   "source": [
    "overlap_validate=[]"
   ]
  },
  {
   "cell_type": "code",
   "execution_count": 97,
   "metadata": {},
   "outputs": [],
   "source": [
    "#Check the availability of miRNAs of overlapped dataset, within the validation dataset and select the validated miRNAs\n",
    "for i in range(0,len(overlap_array_split)):\n",
    "    if df_bench_alzeimer['mir'].str.contains(overlap_array_split[i]).any():\n",
    "        overlap_validate.append(overlap_array_split[i])"
   ]
  },
  {
   "cell_type": "code",
   "execution_count": 98,
   "metadata": {},
   "outputs": [
    {
     "data": {
      "text/plain": [
       "['hsa-mir-186',\n",
       " 'hsa-mir-144',\n",
       " 'hsa-mir-151a',\n",
       " 'hsa-mir-98',\n",
       " 'hsa-mir-148a',\n",
       " 'hsa-let-7g',\n",
       " 'hsa-mir-15a',\n",
       " 'hsa-mir-144']"
      ]
     },
     "execution_count": 98,
     "metadata": {},
     "output_type": "execute_result"
    }
   ],
   "source": [
    " overlap_validate"
   ]
  },
  {
   "cell_type": "code",
   "execution_count": null,
   "metadata": {},
   "outputs": [],
   "source": []
  }
 ],
 "metadata": {
  "kernelspec": {
   "display_name": "Python 3",
   "language": "python",
   "name": "python3"
  },
  "language_info": {
   "codemirror_mode": {
    "name": "ipython",
    "version": 3
   },
   "file_extension": ".py",
   "mimetype": "text/x-python",
   "name": "python",
   "nbconvert_exporter": "python",
   "pygments_lexer": "ipython3",
   "version": "3.7.3"
  }
 },
 "nbformat": 4,
 "nbformat_minor": 4
}
